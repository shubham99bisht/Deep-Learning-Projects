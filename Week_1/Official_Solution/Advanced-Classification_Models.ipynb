{
  "nbformat": 4,
  "nbformat_minor": 0,
  "metadata": {
    "colab": {
      "name": "Week 1: Classification_Models.ipynb",
      "provenance": [],
      "collapsed_sections": [
        "6JYAJz-Su9vZ",
        "R4jplZmNIDoi",
        "nD6d-WPX9wzF",
        "RNB0rtragUPg",
        "P7O7kyH8VgeH"
      ]
    },
    "kernelspec": {
      "name": "python3",
      "display_name": "Python 3"
    }
  },
  "cells": [
    {
      "cell_type": "markdown",
      "metadata": {
        "id": "YEYlS8UFu67j",
        "colab_type": "text"
      },
      "source": [
        "# Data Preparation"
      ]
    },
    {
      "cell_type": "markdown",
      "metadata": {
        "id": "6JYAJz-Su9vZ",
        "colab_type": "text"
      },
      "source": [
        "### Data Downloading\n",
        "\n",
        "**Wine Quality Data Set**\n",
        "\n",
        "**Task:**  Two datasets are included, related to red and white vinho verde wine samples, from the north of Portugal. The goal is to model wine quality based on physicochemical tests\n",
        "\n",
        "Dataset Link: http://archive.ics.uci.edu/ml/datasets/Wine+Quality"
      ]
    },
    {
      "cell_type": "code",
      "metadata": {
        "id": "Z-m-rChFu-FF",
        "colab_type": "code",
        "colab": {}
      },
      "source": [
        "# Preparing Folder for Data Download\n",
        "!mkdir \"data_folder\"\n",
        "%cd \"/content/data_folder\"\n",
        "\n",
        "# Downloading Red Wine dataset (CSV file)\n",
        "!wget \"http://archive.ics.uci.edu/ml/machine-learning-databases/wine-quality/winequality-red.csv\"\n",
        "\n",
        "# Downloading White Wine dataset (CSV file)\n",
        "!wget \"http://archive.ics.uci.edu/ml/machine-learning-databases/wine-quality/winequality-white.csv\"\n",
        "\n",
        "# Downloading Description file (.names file)\n",
        "!wget \"http://archive.ics.uci.edu/ml/machine-learning-databases/wine-quality/winequality.names\""
      ],
      "execution_count": 0,
      "outputs": []
    },
    {
      "cell_type": "code",
      "metadata": {
        "id": "1pCViNv8x2gY",
        "colab_type": "code",
        "outputId": "cc7b382f-5b82-42ac-b09e-12295ea1a08e",
        "colab": {
          "base_uri": "https://localhost:8080/"
        }
      },
      "source": [
        "# Reading Names file\n",
        "!cat winequality.names"
      ],
      "execution_count": 0,
      "outputs": [
        {
          "output_type": "stream",
          "text": [
            "Citation Request:\r\n",
            "  This dataset is public available for research. The details are described in [Cortez et al., 2009]. \r\n",
            "  Please include this citation if you plan to use this database:\r\n",
            "\r\n",
            "  P. Cortez, A. Cerdeira, F. Almeida, T. Matos and J. Reis. \r\n",
            "  Modeling wine preferences by data mining from physicochemical properties.\r\n",
            "  In Decision Support Systems, Elsevier, 47(4):547-553. ISSN: 0167-9236.\r\n",
            "\r\n",
            "  Available at: [@Elsevier] http://dx.doi.org/10.1016/j.dss.2009.05.016\r\n",
            "                [Pre-press (pdf)] http://www3.dsi.uminho.pt/pcortez/winequality09.pdf\r\n",
            "                [bib] http://www3.dsi.uminho.pt/pcortez/dss09.bib\r\n",
            "\r\n",
            "1. Title: Wine Quality \r\n",
            "\r\n",
            "2. Sources\r\n",
            "   Created by: Paulo Cortez (Univ. Minho), Antonio Cerdeira, Fernando Almeida, Telmo Matos and Jose Reis (CVRVV) @ 2009\r\n",
            "   \r\n",
            "3. Past Usage:\r\n",
            "\r\n",
            "  P. Cortez, A. Cerdeira, F. Almeida, T. Matos and J. Reis. \r\n",
            "  Modeling wine preferences by data mining from physicochemical properties.\r\n",
            "  In Decision Support Systems, Elsevier, 47(4):547-553. ISSN: 0167-9236.\r\n",
            "\r\n",
            "  In the above reference, two datasets were created, using red and white wine samples.\r\n",
            "  The inputs include objective tests (e.g. PH values) and the output is based on sensory data\r\n",
            "  (median of at least 3 evaluations made by wine experts). Each expert graded the wine quality \r\n",
            "  between 0 (very bad) and 10 (very excellent). Several data mining methods were applied to model\r\n",
            "  these datasets under a regression approach. The support vector machine model achieved the\r\n",
            "  best results. Several metrics were computed: MAD, confusion matrix for a fixed error tolerance (T),\r\n",
            "  etc. Also, we plot the relative importances of the input variables (as measured by a sensitivity\r\n",
            "  analysis procedure).\r\n",
            " \r\n",
            "4. Relevant Information:\r\n",
            "\r\n",
            "   The two datasets are related to red and white variants of the Portuguese \"Vinho Verde\" wine.\r\n",
            "   For more details, consult: http://www.vinhoverde.pt/en/ or the reference [Cortez et al., 2009].\r\n",
            "   Due to privacy and logistic issues, only physicochemical (inputs) and sensory (the output) variables \r\n",
            "   are available (e.g. there is no data about grape types, wine brand, wine selling price, etc.).\r\n",
            "\r\n",
            "   These datasets can be viewed as classification or regression tasks.\r\n",
            "   The classes are ordered and not balanced (e.g. there are munch more normal wines than\r\n",
            "   excellent or poor ones). Outlier detection algorithms could be used to detect the few excellent\r\n",
            "   or poor wines. Also, we are not sure if all input variables are relevant. So\r\n",
            "   it could be interesting to test feature selection methods. \r\n",
            "\r\n",
            "5. Number of Instances: red wine - 1599; white wine - 4898. \r\n",
            "\r\n",
            "6. Number of Attributes: 11 + output attribute\r\n",
            "  \r\n",
            "   Note: several of the attributes may be correlated, thus it makes sense to apply some sort of\r\n",
            "   feature selection.\r\n",
            "\r\n",
            "7. Attribute information:\r\n",
            "\r\n",
            "   For more information, read [Cortez et al., 2009].\r\n",
            "\r\n",
            "   Input variables (based on physicochemical tests):\r\n",
            "   1 - fixed acidity\r\n",
            "   2 - volatile acidity\r\n",
            "   3 - citric acid\r\n",
            "   4 - residual sugar\r\n",
            "   5 - chlorides\r\n",
            "   6 - free sulfur dioxide\r\n",
            "   7 - total sulfur dioxide\r\n",
            "   8 - density\r\n",
            "   9 - pH\r\n",
            "   10 - sulphates\r\n",
            "   11 - alcohol\r\n",
            "   Output variable (based on sensory data): \r\n",
            "   12 - quality (score between 0 and 10)\r\n",
            "\r\n",
            "8. Missing Attribute Values: None\r\n"
          ],
          "name": "stdout"
        }
      ]
    },
    {
      "cell_type": "code",
      "metadata": {
        "id": "Y1kf4CCix2fa",
        "colab_type": "code",
        "outputId": "c360845b-396d-4b46-da81-374c368e980b",
        "colab": {
          "base_uri": "https://localhost:8080/",
          "height": 221
        }
      },
      "source": [
        "# Reading White wine CSV\n",
        "import pandas as pd\n",
        "white_wine_data = pd.read_csv(\"/content/data_folder/winequality-white.csv\", delimiter=\";\")\n",
        "white_wine_data.head(5)"
      ],
      "execution_count": 2,
      "outputs": [
        {
          "output_type": "execute_result",
          "data": {
            "text/html": [
              "<div>\n",
              "<style scoped>\n",
              "    .dataframe tbody tr th:only-of-type {\n",
              "        vertical-align: middle;\n",
              "    }\n",
              "\n",
              "    .dataframe tbody tr th {\n",
              "        vertical-align: top;\n",
              "    }\n",
              "\n",
              "    .dataframe thead th {\n",
              "        text-align: right;\n",
              "    }\n",
              "</style>\n",
              "<table border=\"1\" class=\"dataframe\">\n",
              "  <thead>\n",
              "    <tr style=\"text-align: right;\">\n",
              "      <th></th>\n",
              "      <th>fixed acidity</th>\n",
              "      <th>volatile acidity</th>\n",
              "      <th>citric acid</th>\n",
              "      <th>residual sugar</th>\n",
              "      <th>chlorides</th>\n",
              "      <th>free sulfur dioxide</th>\n",
              "      <th>total sulfur dioxide</th>\n",
              "      <th>density</th>\n",
              "      <th>pH</th>\n",
              "      <th>sulphates</th>\n",
              "      <th>alcohol</th>\n",
              "      <th>quality</th>\n",
              "    </tr>\n",
              "  </thead>\n",
              "  <tbody>\n",
              "    <tr>\n",
              "      <th>0</th>\n",
              "      <td>7.0</td>\n",
              "      <td>0.27</td>\n",
              "      <td>0.36</td>\n",
              "      <td>20.7</td>\n",
              "      <td>0.045</td>\n",
              "      <td>45.0</td>\n",
              "      <td>170.0</td>\n",
              "      <td>1.0010</td>\n",
              "      <td>3.00</td>\n",
              "      <td>0.45</td>\n",
              "      <td>8.8</td>\n",
              "      <td>6</td>\n",
              "    </tr>\n",
              "    <tr>\n",
              "      <th>1</th>\n",
              "      <td>6.3</td>\n",
              "      <td>0.30</td>\n",
              "      <td>0.34</td>\n",
              "      <td>1.6</td>\n",
              "      <td>0.049</td>\n",
              "      <td>14.0</td>\n",
              "      <td>132.0</td>\n",
              "      <td>0.9940</td>\n",
              "      <td>3.30</td>\n",
              "      <td>0.49</td>\n",
              "      <td>9.5</td>\n",
              "      <td>6</td>\n",
              "    </tr>\n",
              "    <tr>\n",
              "      <th>2</th>\n",
              "      <td>8.1</td>\n",
              "      <td>0.28</td>\n",
              "      <td>0.40</td>\n",
              "      <td>6.9</td>\n",
              "      <td>0.050</td>\n",
              "      <td>30.0</td>\n",
              "      <td>97.0</td>\n",
              "      <td>0.9951</td>\n",
              "      <td>3.26</td>\n",
              "      <td>0.44</td>\n",
              "      <td>10.1</td>\n",
              "      <td>6</td>\n",
              "    </tr>\n",
              "    <tr>\n",
              "      <th>3</th>\n",
              "      <td>7.2</td>\n",
              "      <td>0.23</td>\n",
              "      <td>0.32</td>\n",
              "      <td>8.5</td>\n",
              "      <td>0.058</td>\n",
              "      <td>47.0</td>\n",
              "      <td>186.0</td>\n",
              "      <td>0.9956</td>\n",
              "      <td>3.19</td>\n",
              "      <td>0.40</td>\n",
              "      <td>9.9</td>\n",
              "      <td>6</td>\n",
              "    </tr>\n",
              "    <tr>\n",
              "      <th>4</th>\n",
              "      <td>7.2</td>\n",
              "      <td>0.23</td>\n",
              "      <td>0.32</td>\n",
              "      <td>8.5</td>\n",
              "      <td>0.058</td>\n",
              "      <td>47.0</td>\n",
              "      <td>186.0</td>\n",
              "      <td>0.9956</td>\n",
              "      <td>3.19</td>\n",
              "      <td>0.40</td>\n",
              "      <td>9.9</td>\n",
              "      <td>6</td>\n",
              "    </tr>\n",
              "  </tbody>\n",
              "</table>\n",
              "</div>"
            ],
            "text/plain": [
              "   fixed acidity  volatile acidity  citric acid  ...  sulphates  alcohol  quality\n",
              "0            7.0              0.27         0.36  ...       0.45      8.8        6\n",
              "1            6.3              0.30         0.34  ...       0.49      9.5        6\n",
              "2            8.1              0.28         0.40  ...       0.44     10.1        6\n",
              "3            7.2              0.23         0.32  ...       0.40      9.9        6\n",
              "4            7.2              0.23         0.32  ...       0.40      9.9        6\n",
              "\n",
              "[5 rows x 12 columns]"
            ]
          },
          "metadata": {
            "tags": []
          },
          "execution_count": 2
        }
      ]
    },
    {
      "cell_type": "markdown",
      "metadata": {
        "id": "R4jplZmNIDoi",
        "colab_type": "text"
      },
      "source": [
        "### Data visualization &  Preprocessing\n",
        "\n",
        "\n",
        "1.   Combining Features\n",
        "2.   Correlation Map\n",
        "3.   Normalisation\n",
        "\n"
      ]
    },
    {
      "cell_type": "code",
      "metadata": {
        "id": "-SM61Nhqx2dF",
        "colab_type": "code",
        "outputId": "fbbb110b-ceaa-473e-92cd-573be2a9ed84",
        "colab": {
          "base_uri": "https://localhost:8080/",
          "height": 350
        }
      },
      "source": [
        "# EDA (Exploratory Data Analysis)\n",
        "import seaborn as sns\n",
        "sns.countplot(white_wine_data[\"quality\"])"
      ],
      "execution_count": 5,
      "outputs": [
        {
          "output_type": "stream",
          "text": [
            "/usr/local/lib/python3.6/dist-packages/statsmodels/tools/_testing.py:19: FutureWarning: pandas.util.testing is deprecated. Use the functions in the public API at pandas.testing instead.\n",
            "  import pandas.util.testing as tm\n"
          ],
          "name": "stderr"
        },
        {
          "output_type": "execute_result",
          "data": {
            "text/plain": [
              "<matplotlib.axes._subplots.AxesSubplot at 0x7fe7c8a83358>"
            ]
          },
          "metadata": {
            "tags": []
          },
          "execution_count": 5
        },
        {
          "output_type": "display_data",
          "data": {
            "image/png": "[encoded data removed]",
            "text/plain": [
              "<Figure size 432x288 with 1 Axes>"
            ]
          },
          "metadata": {
            "tags": [],
            "needs_background": "light"
          }
        }
      ]
    },
    {
      "cell_type": "markdown",
      "metadata": {
        "id": "8G8f6g3D1enl",
        "colab_type": "text"
      },
      "source": [
        "Looking at the data, it seems we've very less data for classes 3,4,8 and 9. And class 6 seems to be dominating. In such cases a naive approach is to combine the classes to major categories.\n",
        "\n",
        "We'll go ahead with the following categories\n",
        "1. Excellent: ≥ 7\n",
        "2. Good: 6\n",
        "3. Poor: ≤ 5\n",
        "\n"
      ]
    },
    {
      "cell_type": "code",
      "metadata": {
        "id": "zN1b8VIJ3Moz",
        "colab_type": "code",
        "colab": {}
      },
      "source": [
        "def categorise(x):\n",
        "  if x<=5: return 0\n",
        "  elif x==6: return 1\n",
        "  elif x>=7: return 2\n",
        "\n",
        "white_wine_data['quality'] = white_wine_data['quality'].apply(categorise)"
      ],
      "execution_count": 0,
      "outputs": []
    },
    {
      "cell_type": "code",
      "metadata": {
        "id": "bNkHIwWnx2bA",
        "colab_type": "code",
        "outputId": "2e323e86-e707-4685-df9a-ce757ed695fd",
        "colab": {
          "base_uri": "https://localhost:8080/",
          "height": 296
        }
      },
      "source": [
        "sns.countplot(white_wine_data[\"quality\"])"
      ],
      "execution_count": 6,
      "outputs": [
        {
          "output_type": "execute_result",
          "data": {
            "text/plain": [
              "<matplotlib.axes._subplots.AxesSubplot at 0x7fe7c89b4fd0>"
            ]
          },
          "metadata": {
            "tags": []
          },
          "execution_count": 6
        },
        {
          "output_type": "display_data",
          "data": {
            "image/png": "[encoded data removed]",
            "text/plain": [
              "<Figure size 432x288 with 1 Axes>"
            ]
          },
          "metadata": {
            "tags": [],
            "needs_background": "light"
          }
        }
      ]
    },
    {
      "cell_type": "code",
      "metadata": {
        "id": "xAoiZVbSx2Ys",
        "colab_type": "code",
        "outputId": "7ea5c661-79ab-4364-91b5-a872e1caafce",
        "colab": {
          "base_uri": "https://localhost:8080/",
          "height": 351
        }
      },
      "source": [
        "# Basic stats about the data\n",
        "white_wine_data.describe()"
      ],
      "execution_count": 7,
      "outputs": [
        {
          "output_type": "execute_result",
          "data": {
            "text/html": [
              "<div>\n",
              "<style scoped>\n",
              "    .dataframe tbody tr th:only-of-type {\n",
              "        vertical-align: middle;\n",
              "    }\n",
              "\n",
              "    .dataframe tbody tr th {\n",
              "        vertical-align: top;\n",
              "    }\n",
              "\n",
              "    .dataframe thead th {\n",
              "        text-align: right;\n",
              "    }\n",
              "</style>\n",
              "<table border=\"1\" class=\"dataframe\">\n",
              "  <thead>\n",
              "    <tr style=\"text-align: right;\">\n",
              "      <th></th>\n",
              "      <th>fixed acidity</th>\n",
              "      <th>volatile acidity</th>\n",
              "      <th>citric acid</th>\n",
              "      <th>residual sugar</th>\n",
              "      <th>chlorides</th>\n",
              "      <th>free sulfur dioxide</th>\n",
              "      <th>total sulfur dioxide</th>\n",
              "      <th>density</th>\n",
              "      <th>pH</th>\n",
              "      <th>sulphates</th>\n",
              "      <th>alcohol</th>\n",
              "      <th>quality</th>\n",
              "    </tr>\n",
              "  </thead>\n",
              "  <tbody>\n",
              "    <tr>\n",
              "      <th>count</th>\n",
              "      <td>4898.000000</td>\n",
              "      <td>4898.000000</td>\n",
              "      <td>4898.000000</td>\n",
              "      <td>4898.000000</td>\n",
              "      <td>4898.000000</td>\n",
              "      <td>4898.000000</td>\n",
              "      <td>4898.000000</td>\n",
              "      <td>4898.000000</td>\n",
              "      <td>4898.000000</td>\n",
              "      <td>4898.000000</td>\n",
              "      <td>4898.000000</td>\n",
              "      <td>4898.000000</td>\n",
              "    </tr>\n",
              "    <tr>\n",
              "      <th>mean</th>\n",
              "      <td>6.854788</td>\n",
              "      <td>0.278241</td>\n",
              "      <td>0.334192</td>\n",
              "      <td>6.391415</td>\n",
              "      <td>0.045772</td>\n",
              "      <td>35.308085</td>\n",
              "      <td>138.360657</td>\n",
              "      <td>0.994027</td>\n",
              "      <td>3.188267</td>\n",
              "      <td>0.489847</td>\n",
              "      <td>10.514267</td>\n",
              "      <td>0.881584</td>\n",
              "    </tr>\n",
              "    <tr>\n",
              "      <th>std</th>\n",
              "      <td>0.843868</td>\n",
              "      <td>0.100795</td>\n",
              "      <td>0.121020</td>\n",
              "      <td>5.072058</td>\n",
              "      <td>0.021848</td>\n",
              "      <td>17.007137</td>\n",
              "      <td>42.498065</td>\n",
              "      <td>0.002991</td>\n",
              "      <td>0.151001</td>\n",
              "      <td>0.114126</td>\n",
              "      <td>1.230621</td>\n",
              "      <td>0.733030</td>\n",
              "    </tr>\n",
              "    <tr>\n",
              "      <th>min</th>\n",
              "      <td>3.800000</td>\n",
              "      <td>0.080000</td>\n",
              "      <td>0.000000</td>\n",
              "      <td>0.600000</td>\n",
              "      <td>0.009000</td>\n",
              "      <td>2.000000</td>\n",
              "      <td>9.000000</td>\n",
              "      <td>0.987110</td>\n",
              "      <td>2.720000</td>\n",
              "      <td>0.220000</td>\n",
              "      <td>8.000000</td>\n",
              "      <td>0.000000</td>\n",
              "    </tr>\n",
              "    <tr>\n",
              "      <th>25%</th>\n",
              "      <td>6.300000</td>\n",
              "      <td>0.210000</td>\n",
              "      <td>0.270000</td>\n",
              "      <td>1.700000</td>\n",
              "      <td>0.036000</td>\n",
              "      <td>23.000000</td>\n",
              "      <td>108.000000</td>\n",
              "      <td>0.991723</td>\n",
              "      <td>3.090000</td>\n",
              "      <td>0.410000</td>\n",
              "      <td>9.500000</td>\n",
              "      <td>0.000000</td>\n",
              "    </tr>\n",
              "    <tr>\n",
              "      <th>50%</th>\n",
              "      <td>6.800000</td>\n",
              "      <td>0.260000</td>\n",
              "      <td>0.320000</td>\n",
              "      <td>5.200000</td>\n",
              "      <td>0.043000</td>\n",
              "      <td>34.000000</td>\n",
              "      <td>134.000000</td>\n",
              "      <td>0.993740</td>\n",
              "      <td>3.180000</td>\n",
              "      <td>0.470000</td>\n",
              "      <td>10.400000</td>\n",
              "      <td>1.000000</td>\n",
              "    </tr>\n",
              "    <tr>\n",
              "      <th>75%</th>\n",
              "      <td>7.300000</td>\n",
              "      <td>0.320000</td>\n",
              "      <td>0.390000</td>\n",
              "      <td>9.900000</td>\n",
              "      <td>0.050000</td>\n",
              "      <td>46.000000</td>\n",
              "      <td>167.000000</td>\n",
              "      <td>0.996100</td>\n",
              "      <td>3.280000</td>\n",
              "      <td>0.550000</td>\n",
              "      <td>11.400000</td>\n",
              "      <td>1.000000</td>\n",
              "    </tr>\n",
              "    <tr>\n",
              "      <th>max</th>\n",
              "      <td>14.200000</td>\n",
              "      <td>1.100000</td>\n",
              "      <td>1.660000</td>\n",
              "      <td>65.800000</td>\n",
              "      <td>0.346000</td>\n",
              "      <td>289.000000</td>\n",
              "      <td>440.000000</td>\n",
              "      <td>1.038980</td>\n",
              "      <td>3.820000</td>\n",
              "      <td>1.080000</td>\n",
              "      <td>14.200000</td>\n",
              "      <td>2.000000</td>\n",
              "    </tr>\n",
              "  </tbody>\n",
              "</table>\n",
              "</div>"
            ],
            "text/plain": [
              "       fixed acidity  volatile acidity  ...      alcohol      quality\n",
              "count    4898.000000       4898.000000  ...  4898.000000  4898.000000\n",
              "mean        6.854788          0.278241  ...    10.514267     0.881584\n",
              "std         0.843868          0.100795  ...     1.230621     0.733030\n",
              "min         3.800000          0.080000  ...     8.000000     0.000000\n",
              "25%         6.300000          0.210000  ...     9.500000     0.000000\n",
              "50%         6.800000          0.260000  ...    10.400000     1.000000\n",
              "75%         7.300000          0.320000  ...    11.400000     1.000000\n",
              "max        14.200000          1.100000  ...    14.200000     2.000000\n",
              "\n",
              "[8 rows x 12 columns]"
            ]
          },
          "metadata": {
            "tags": []
          },
          "execution_count": 7
        }
      ]
    },
    {
      "cell_type": "markdown",
      "metadata": {
        "id": "u9kuCj9Z4ywB",
        "colab_type": "text"
      },
      "source": [
        "This data set has many different features and it is important to understand relationship between these in order to analyze dataset better.<br/>\n",
        "For that reason, **correlation map** helps to understand these relations in a single representation. \n",
        "\n",
        "-1 means: There is a negative relationship between dependent and independent variables .\n",
        "\n",
        "0 means: There is no relationship between dependent and independent variables .\n",
        "\n",
        "1 means: There is a positive relationship between dependent and independent variables . According to these information, it can be made a good analyze about dataset and columns."
      ]
    },
    {
      "cell_type": "code",
      "metadata": {
        "id": "uawu_KBdx2Wm",
        "colab_type": "code",
        "outputId": "ab1612ee-087d-4e4a-d780-bae9fc601221",
        "colab": {
          "base_uri": "https://localhost:8080/",
          "height": 679
        }
      },
      "source": [
        "from matplotlib import pyplot as plt\n",
        "%matplotlib inline\n",
        "\n",
        "f, ax = plt.subplots(figsize = (10,10))\n",
        "sns.heatmap(white_wine_data.corr(), annot = True, linewidths=.5, fmt = \".2f\", ax=ax)\n",
        "plt.show()"
      ],
      "execution_count": 8,
      "outputs": [
        {
          "output_type": "display_data",
          "data": {
            "image/png": "[encoded data removed]",
            "text/plain": [
              "<Figure size 720x720 with 2 Axes>"
            ]
          },
          "metadata": {
            "tags": [],
            "needs_background": "light"
          }
        }
      ]
    },
    {
      "cell_type": "markdown",
      "metadata": {
        "id": "IKImuiig9DV9",
        "colab_type": "text"
      },
      "source": [
        "From such plots we can easily visualise the correlation between different features, and if required we perform feature selection.<br/>\n",
        "In the above plot we can see a high correlation between **density** and **residual sugar**.\n",
        "\n",
        "Since we've less number of features we'll go ahead will all the features for now."
      ]
    },
    {
      "cell_type": "markdown",
      "metadata": {
        "id": "9vmfWI6uGuLG",
        "colab_type": "text"
      },
      "source": [
        "\n",
        "\n",
        "---\n",
        "\n",
        "\n",
        "**Normalization** typically means rescales the values into a range of [0,1]. <br>\n",
        "Formula: x_norm = (x - min(x))/(max(x) - min(x))\n",
        "<br><br>\n",
        "**Standardization** typically means rescales data to have a mean of 0 and a standard deviation of 1 (unit variance).<br>\n",
        "Formula: x_new = (x - mean)/std\n",
        "\n",
        "\n",
        "References: https://medium.com/@dataakkadian/standardization-vs-normalization-da7a3a308c64\n",
        "\n",
        "https://towardsdatascience.com/normalization-vs-standardization-quantitative-analysis-a91e8a79cebf"
      ]
    },
    {
      "cell_type": "code",
      "metadata": {
        "id": "sClGZZ8fGmrs",
        "colab_type": "code",
        "colab": {}
      },
      "source": [
        "# Applying Standardization:\n",
        "\n",
        "# Pandas automatically applies colomn-wise function in the code below.\n",
        "white_wine_normalised = (white_wine_data - white_wine_data.mean() ) / white_wine_data.std()\n",
        "\n",
        "# We don't want to normalize \"quality\"\n",
        "white_wine_normalised[\"quality\"] = white_wine_data[\"quality\"]"
      ],
      "execution_count": 0,
      "outputs": []
    },
    {
      "cell_type": "code",
      "metadata": {
        "id": "PrYYVmm0AGEz",
        "colab_type": "code",
        "outputId": "19ef95af-4037-43b3-ce41-7be59594909a",
        "colab": {
          "base_uri": "https://localhost:8080/",
          "height": 221
        }
      },
      "source": [
        "white_wine_normalised.head(5)"
      ],
      "execution_count": 10,
      "outputs": [
        {
          "output_type": "execute_result",
          "data": {
            "text/html": [
              "<div>\n",
              "<style scoped>\n",
              "    .dataframe tbody tr th:only-of-type {\n",
              "        vertical-align: middle;\n",
              "    }\n",
              "\n",
              "    .dataframe tbody tr th {\n",
              "        vertical-align: top;\n",
              "    }\n",
              "\n",
              "    .dataframe thead th {\n",
              "        text-align: right;\n",
              "    }\n",
              "</style>\n",
              "<table border=\"1\" class=\"dataframe\">\n",
              "  <thead>\n",
              "    <tr style=\"text-align: right;\">\n",
              "      <th></th>\n",
              "      <th>fixed acidity</th>\n",
              "      <th>volatile acidity</th>\n",
              "      <th>citric acid</th>\n",
              "      <th>residual sugar</th>\n",
              "      <th>chlorides</th>\n",
              "      <th>free sulfur dioxide</th>\n",
              "      <th>total sulfur dioxide</th>\n",
              "      <th>density</th>\n",
              "      <th>pH</th>\n",
              "      <th>sulphates</th>\n",
              "      <th>alcohol</th>\n",
              "      <th>quality</th>\n",
              "    </tr>\n",
              "  </thead>\n",
              "  <tbody>\n",
              "    <tr>\n",
              "      <th>0</th>\n",
              "      <td>0.172079</td>\n",
              "      <td>-0.081762</td>\n",
              "      <td>0.213258</td>\n",
              "      <td>2.821061</td>\n",
              "      <td>-0.035351</td>\n",
              "      <td>0.569873</td>\n",
              "      <td>0.744489</td>\n",
              "      <td>2.331274</td>\n",
              "      <td>-1.246794</td>\n",
              "      <td>-0.349149</td>\n",
              "      <td>-1.393010</td>\n",
              "      <td>1</td>\n",
              "    </tr>\n",
              "    <tr>\n",
              "      <th>1</th>\n",
              "      <td>-0.657434</td>\n",
              "      <td>0.215874</td>\n",
              "      <td>0.047996</td>\n",
              "      <td>-0.944669</td>\n",
              "      <td>0.147732</td>\n",
              "      <td>-1.252891</td>\n",
              "      <td>-0.149669</td>\n",
              "      <td>-0.009153</td>\n",
              "      <td>0.739953</td>\n",
              "      <td>0.001342</td>\n",
              "      <td>-0.824192</td>\n",
              "      <td>1</td>\n",
              "    </tr>\n",
              "    <tr>\n",
              "      <th>2</th>\n",
              "      <td>1.475600</td>\n",
              "      <td>0.017450</td>\n",
              "      <td>0.543783</td>\n",
              "      <td>0.100272</td>\n",
              "      <td>0.193503</td>\n",
              "      <td>-0.312109</td>\n",
              "      <td>-0.973236</td>\n",
              "      <td>0.358628</td>\n",
              "      <td>0.475053</td>\n",
              "      <td>-0.436771</td>\n",
              "      <td>-0.336633</td>\n",
              "      <td>1</td>\n",
              "    </tr>\n",
              "    <tr>\n",
              "      <th>3</th>\n",
              "      <td>0.409083</td>\n",
              "      <td>-0.478608</td>\n",
              "      <td>-0.117266</td>\n",
              "      <td>0.415726</td>\n",
              "      <td>0.559670</td>\n",
              "      <td>0.687471</td>\n",
              "      <td>1.120977</td>\n",
              "      <td>0.525802</td>\n",
              "      <td>0.011479</td>\n",
              "      <td>-0.787262</td>\n",
              "      <td>-0.499152</td>\n",
              "      <td>1</td>\n",
              "    </tr>\n",
              "    <tr>\n",
              "      <th>4</th>\n",
              "      <td>0.409083</td>\n",
              "      <td>-0.478608</td>\n",
              "      <td>-0.117266</td>\n",
              "      <td>0.415726</td>\n",
              "      <td>0.559670</td>\n",
              "      <td>0.687471</td>\n",
              "      <td>1.120977</td>\n",
              "      <td>0.525802</td>\n",
              "      <td>0.011479</td>\n",
              "      <td>-0.787262</td>\n",
              "      <td>-0.499152</td>\n",
              "      <td>1</td>\n",
              "    </tr>\n",
              "  </tbody>\n",
              "</table>\n",
              "</div>"
            ],
            "text/plain": [
              "   fixed acidity  volatile acidity  citric acid  ...  sulphates   alcohol  quality\n",
              "0       0.172079         -0.081762     0.213258  ...  -0.349149 -1.393010        1\n",
              "1      -0.657434          0.215874     0.047996  ...   0.001342 -0.824192        1\n",
              "2       1.475600          0.017450     0.543783  ...  -0.436771 -0.336633        1\n",
              "3       0.409083         -0.478608    -0.117266  ...  -0.787262 -0.499152        1\n",
              "4       0.409083         -0.478608    -0.117266  ...  -0.787262 -0.499152        1\n",
              "\n",
              "[5 rows x 12 columns]"
            ]
          },
          "metadata": {
            "tags": []
          },
          "execution_count": 10
        }
      ]
    },
    {
      "cell_type": "markdown",
      "metadata": {
        "id": "nD6d-WPX9wzF",
        "colab_type": "text"
      },
      "source": [
        "### Train, Test Split"
      ]
    },
    {
      "cell_type": "code",
      "metadata": {
        "id": "txt8ctHt_5uq",
        "colab_type": "code",
        "colab": {}
      },
      "source": [
        "from sklearn.utils import shuffle\n",
        "\n",
        "def train_test_split(data, test_precentage = 0.2):\n",
        "    data = shuffle(data).values\n",
        "    total_data = len(data)\n",
        "    test_len = int(test_precentage*total_data)\n",
        "    train = data[:-test_len]\n",
        "    test = data[-test_len:]\n",
        "    return train, test\n",
        "\n",
        "\n",
        "def feature_label_split(data):\n",
        "    x = data[:, :-1]\n",
        "    y = data[:, -1]\n",
        "    return x,y\n",
        "\n",
        "def get_data():\n",
        "    train_data, test_data = train_test_split(white_wine_normalised)\n",
        "    print(\"Train Test Split :\",train_data.shape, test_data.shape)\n",
        "\n",
        "    x_train, y_train = feature_label_split(train_data)\n",
        "    x_test, y_test = feature_label_split(test_data)\n",
        "\n",
        "    print(\"Train Data Shape: \", x_train.shape, y_train.shape)\n",
        "    print(\"Test Data Shape: \", x_test.shape, y_test.shape)\n",
        "    return x_train, y_train, x_test, y_test"
      ],
      "execution_count": 0,
      "outputs": []
    },
    {
      "cell_type": "code",
      "metadata": {
        "colab_type": "code",
        "outputId": "b4a376da-1a3b-43eb-eaaf-1450e1131385",
        "id": "HLNy_YMYHR-G",
        "colab": {
          "base_uri": "https://localhost:8080/",
          "height": 68
        }
      },
      "source": [
        "# Getting Data\n",
        "x_train, y_train, x_test, y_test = get_data()"
      ],
      "execution_count": 12,
      "outputs": [
        {
          "output_type": "stream",
          "text": [
            "Train Test Split : (3919, 12) (979, 12)\n",
            "Train Data Shape:  (3919, 11) (3919,)\n",
            "Test Data Shape:  (979, 11) (979,)\n"
          ],
          "name": "stdout"
        }
      ]
    },
    {
      "cell_type": "markdown",
      "metadata": {
        "id": "-mK1zhhot8IN",
        "colab_type": "text"
      },
      "source": [
        "# Types of classification algorithms in Machine Learning\n",
        "\n",
        "\n",
        "\n",
        "1.   Linear Classifiers: Logistic Regression, Naive Bayes Classifier\n",
        "2.   Nearest Neighbor (KNN)\n",
        "3.   Support Vector Machines (SVM)\n",
        "4.   Decision Trees\n",
        "5.   Boosted Trees\n",
        "6.   Random Forest\n",
        "7.   Neural Networks\n",
        "\n",
        "Reference Link: https://medium.com/@Mandysidana/machine-learning-types-of-classification-9497bd4f2e14"
      ]
    },
    {
      "cell_type": "markdown",
      "metadata": {
        "id": "RNB0rtragUPg",
        "colab_type": "text"
      },
      "source": [
        "## Utility Functions and Importing Modules"
      ]
    },
    {
      "cell_type": "markdown",
      "metadata": {
        "id": "An19qtcQ_-gX",
        "colab_type": "text"
      },
      "source": [
        "**Self defined Utility Functions**"
      ]
    },
    {
      "cell_type": "code",
      "metadata": {
        "id": "TEoVvJ_s_92R",
        "colab_type": "code",
        "colab": {}
      },
      "source": [
        "# Calculating Test Accuracy\n",
        "def get_accuracy(prediction, y_test):\n",
        "    result = list(np.array(prediction)==y_test)\n",
        "    sm = result.count(True)\n",
        "    accuracy = sm/y_test.shape[0]\n",
        "    return accuracy\n",
        "\n",
        "# Making Confusion Matrix\n",
        "def confusion_matrix(predictions, y_test):\n",
        "    assert predictions.shape==y_test.shape, \"Matrices don't match\"\n",
        "    cm = [[0 for x in range(3)] for y in range(3)]\n",
        "    for i in range(predictions.shape[0]):\n",
        "        cm[int(predictions[i])][int(y_test[i])]+=1\n",
        "    for x in cm: print(x)\n",
        "    return cm"
      ],
      "execution_count": 0,
      "outputs": []
    },
    {
      "cell_type": "markdown",
      "metadata": {
        "id": "lAZhI6QAuUFe",
        "colab_type": "text"
      },
      "source": [
        "## Logistic Regression\n",
        "\n",
        "It is used as a Binary Classifier, because of **Sigmoid Activation** at the last layer, still it can be used for Multi class classification tasks using **One-vs-All Strategy**, where we train n-different models for each different category, and while testing we choose the output of the model who makes the strongest prediction.\n",
        "\n",
        "\n",
        "**Formula:**\n",
        "\n",
        "z = W*x + B <br>\n",
        "Output = sigmoid(z)\n",
        "\n",
        "(x is feature vector, W is weights vector and B is a single bias value)\n",
        "\n",
        "Reference (Andrew Ng, Coursera): https://www.youtube.com/watch?v=-EIfb6vFJzc"
      ]
    },
    {
      "cell_type": "markdown",
      "metadata": {
        "id": "H68C3oAQACvL",
        "colab_type": "text"
      },
      "source": [
        "**Importing Modules**"
      ]
    },
    {
      "cell_type": "code",
      "metadata": {
        "id": "ActOa0NTZfSk",
        "colab_type": "code",
        "colab": {}
      },
      "source": [
        "import numpy as np\n",
        "from matplotlib import pyplot as plt\n",
        "import math"
      ],
      "execution_count": 0,
      "outputs": []
    },
    {
      "cell_type": "code",
      "metadata": {
        "id": "g0Jw43BCRW8d",
        "colab_type": "code",
        "colab": {}
      },
      "source": [
        "# Util Functions\n",
        "def sigmoid(x):\n",
        "    return 1/(1+math.e**(-x))\n",
        "\n",
        "# Random Initilisation of Weights and Bias\n",
        "def initialise(len_w):\n",
        "    import numpy as np\n",
        "    W = np.random.randn(len_w)\n",
        "    b = np.random.randn()\n",
        "    return W, b"
      ],
      "execution_count": 0,
      "outputs": []
    },
    {
      "cell_type": "code",
      "metadata": {
        "id": "Zr-FJPiJtM1k",
        "colab_type": "code",
        "colab": {}
      },
      "source": [
        "def logistic_regression(x_train, y_train, train_class=0, epoch=500, learning_rate = 0.1):\n",
        "    W, b = initialise(x_train.shape[1])\n",
        "    m = x_train.shape[0]\n",
        "\n",
        "    print(W,b)\n",
        "\n",
        "    avg_cost, accuracy = [], []\n",
        "    # Training \n",
        "    for i in range(epoch):\n",
        "        total_cost = 0\n",
        "        for j in range(m):\n",
        "            x, y = x_train[j], y_train[j]\n",
        "\n",
        "            # Making prediction\n",
        "            y_pred = sigmoid(W@x + b)\n",
        "            #print(\"Pred, actua \", y_pred, y)\n",
        "\n",
        "            # Calculating simplified cost (More details: https://youtu.be/TTdcc21Ko9A)\n",
        "            if y == train_class:\n",
        "                cost = (1 - y_pred)\n",
        "            else:\n",
        "                cost = (0 - y_pred)\n",
        "            \n",
        "            #print(\"cost \", cost)\n",
        "            total_cost += cost\n",
        "            \n",
        "            # Gradient Descent to update Weights and Bias\n",
        "            W = W - learning_rate*cost*x\n",
        "            b = b - learning_rate*cost\n",
        "            #print(W, b)\n",
        "\n",
        "\n",
        "        # Accuracy on train data\n",
        "        y_pred = sigmoid(W@x_train.T + b)   \n",
        "\n",
        "        acc = 0         \n",
        "        for ij in range(len(y_pred)):\n",
        "            if y_pred[ij]<0.5 and y_train[ij]==0:\n",
        "                acc+=1\n",
        "        acc //= m\n",
        "        avg_cost += [total_cost//m]\n",
        "        accuracy += [acc]\n",
        "        \n",
        "        print(\"Epoch: {}  Cost: {}  Accuracy: {}\".format(i, total_cost//m, acc))\n",
        "\n",
        "    return W, b, avg_cost, accuracy\n",
        "\n",
        "# NOTE: @ is same as numpy.matmul() i.e normal matrix multiplication as done in Maths"
      ],
      "execution_count": 0,
      "outputs": []
    },
    {
      "cell_type": "code",
      "metadata": {
        "id": "r1uAZHvqgI7z",
        "colab_type": "code",
        "outputId": "56f5a532-9d0b-4f28-b496-b993f8ff2a0d",
        "colab": {
          "base_uri": "https://localhost:8080/",
          "height": 68
        }
      },
      "source": [
        "# Getting Data\n",
        "x_train, y_train, x_test, y_test = get_data()"
      ],
      "execution_count": 72,
      "outputs": [
        {
          "output_type": "stream",
          "text": [
            "Train Test Split : (3919, 12) (979, 12)\n",
            "Train Data Shape:  (3919, 11) (3919,)\n",
            "Test Data Shape:  (979, 11) (979,)\n"
          ],
          "name": "stdout"
        }
      ]
    },
    {
      "cell_type": "code",
      "metadata": {
        "id": "zg9i_LpUbwEi",
        "colab_type": "code",
        "colab": {
          "base_uri": "https://localhost:8080/",
          "height": 1000
        },
        "outputId": "77f0cb1a-e039-4d3b-8acd-184675bcb73d"
      },
      "source": [
        "W, b, avg_cost, accuracy = logistic_regression(x_train, y_train)"
      ],
      "execution_count": 73,
      "outputs": [
        {
          "output_type": "stream",
          "text": [
            "[ 0.22641268 -0.17281852  0.51452417  1.70592558 -0.48157768  0.49755166\n",
            " -1.3845856   0.12918852  1.61373688  1.66763135  0.50094602] -0.045676657224347904\n",
            "0\n",
            "Epoch: 0  Cost: -1.0  Accuracy: 0\n",
            "1\n",
            "Epoch: 1  Cost: -1.0  Accuracy: 0\n",
            "2\n",
            "Epoch: 2  Cost: -1.0  Accuracy: 0\n",
            "3\n",
            "Epoch: 3  Cost: -1.0  Accuracy: 0\n",
            "4\n"
          ],
          "name": "stdout"
        },
        {
          "output_type": "stream",
          "text": [
            "/usr/local/lib/python3.6/dist-packages/ipykernel_launcher.py:2: RuntimeWarning: overflow encountered in double_scalars\n",
            "  \n",
            "/usr/local/lib/python3.6/dist-packages/ipykernel_launcher.py:2: RuntimeWarning: overflow encountered in power\n",
            "  \n"
          ],
          "name": "stderr"
        },
        {
          "output_type": "stream",
          "text": [
            "Epoch: 4  Cost: -1.0  Accuracy: 0\n",
            "5\n",
            "Epoch: 5  Cost: -1.0  Accuracy: 0\n",
            "6\n",
            "Epoch: 6  Cost: -1.0  Accuracy: 0\n",
            "7\n",
            "Epoch: 7  Cost: -1.0  Accuracy: 0\n",
            "8\n",
            "Epoch: 8  Cost: -1.0  Accuracy: 0\n",
            "9\n",
            "Epoch: 9  Cost: -1.0  Accuracy: 0\n",
            "10\n",
            "Epoch: 10  Cost: -1.0  Accuracy: 0\n",
            "11\n",
            "Epoch: 11  Cost: -1.0  Accuracy: 0\n",
            "12\n",
            "Epoch: 12  Cost: -1.0  Accuracy: 0\n",
            "13\n",
            "Epoch: 13  Cost: -1.0  Accuracy: 0\n",
            "14\n",
            "Epoch: 14  Cost: -1.0  Accuracy: 0\n",
            "15\n",
            "Epoch: 15  Cost: -1.0  Accuracy: 0\n",
            "16\n",
            "Epoch: 16  Cost: -1.0  Accuracy: 0\n",
            "17\n",
            "Epoch: 17  Cost: -1.0  Accuracy: 0\n",
            "18\n",
            "Epoch: 18  Cost: -1.0  Accuracy: 0\n",
            "19\n",
            "Epoch: 19  Cost: -1.0  Accuracy: 0\n",
            "20\n",
            "Epoch: 20  Cost: -1.0  Accuracy: 0\n",
            "21\n",
            "Epoch: 21  Cost: -1.0  Accuracy: 0\n",
            "22\n",
            "Epoch: 22  Cost: -1.0  Accuracy: 0\n",
            "23\n",
            "Epoch: 23  Cost: -1.0  Accuracy: 0\n",
            "24\n",
            "Epoch: 24  Cost: -1.0  Accuracy: 0\n",
            "25\n",
            "Epoch: 25  Cost: -1.0  Accuracy: 0\n",
            "26\n",
            "Epoch: 26  Cost: -1.0  Accuracy: 0\n",
            "27\n",
            "Epoch: 27  Cost: -1.0  Accuracy: 0\n",
            "28\n",
            "Epoch: 28  Cost: -1.0  Accuracy: 0\n",
            "29\n",
            "Epoch: 29  Cost: -1.0  Accuracy: 0\n",
            "30\n",
            "Epoch: 30  Cost: -1.0  Accuracy: 0\n",
            "31\n",
            "Epoch: 31  Cost: -1.0  Accuracy: 0\n",
            "32\n",
            "Epoch: 32  Cost: -1.0  Accuracy: 0\n",
            "33\n",
            "Epoch: 33  Cost: -1.0  Accuracy: 0\n",
            "34\n",
            "Epoch: 34  Cost: -1.0  Accuracy: 0\n",
            "35\n",
            "Epoch: 35  Cost: -1.0  Accuracy: 0\n",
            "36\n",
            "Epoch: 36  Cost: -1.0  Accuracy: 0\n",
            "37\n",
            "Epoch: 37  Cost: -1.0  Accuracy: 0\n",
            "38\n",
            "Epoch: 38  Cost: -1.0  Accuracy: 0\n",
            "39\n",
            "Epoch: 39  Cost: -1.0  Accuracy: 0\n",
            "40\n",
            "Epoch: 40  Cost: -1.0  Accuracy: 0\n",
            "41\n",
            "Epoch: 41  Cost: -1.0  Accuracy: 0\n",
            "42\n",
            "Epoch: 42  Cost: -1.0  Accuracy: 0\n",
            "43\n",
            "Epoch: 43  Cost: -1.0  Accuracy: 0\n",
            "44\n",
            "Epoch: 44  Cost: -1.0  Accuracy: 0\n",
            "45\n",
            "Epoch: 45  Cost: -1.0  Accuracy: 0\n",
            "46\n",
            "Epoch: 46  Cost: -1.0  Accuracy: 0\n",
            "47\n",
            "Epoch: 47  Cost: -1.0  Accuracy: 0\n",
            "48\n",
            "Epoch: 48  Cost: -1.0  Accuracy: 0\n",
            "49\n",
            "Epoch: 49  Cost: -1.0  Accuracy: 0\n",
            "50\n",
            "Epoch: 50  Cost: -1.0  Accuracy: 0\n",
            "51\n",
            "Epoch: 51  Cost: -1.0  Accuracy: 0\n",
            "52\n",
            "Epoch: 52  Cost: -1.0  Accuracy: 0\n",
            "53\n",
            "Epoch: 53  Cost: -1.0  Accuracy: 0\n",
            "54\n",
            "Epoch: 54  Cost: -1.0  Accuracy: 0\n",
            "55\n",
            "Epoch: 55  Cost: -1.0  Accuracy: 0\n",
            "56\n",
            "Epoch: 56  Cost: -1.0  Accuracy: 0\n",
            "57\n",
            "Epoch: 57  Cost: -1.0  Accuracy: 0\n",
            "58\n",
            "Epoch: 58  Cost: -1.0  Accuracy: 0\n",
            "59\n",
            "Epoch: 59  Cost: -1.0  Accuracy: 0\n",
            "60\n",
            "Epoch: 60  Cost: -1.0  Accuracy: 0\n",
            "61\n",
            "Epoch: 61  Cost: -1.0  Accuracy: 0\n",
            "62\n",
            "Epoch: 62  Cost: -1.0  Accuracy: 0\n",
            "63\n",
            "Epoch: 63  Cost: -1.0  Accuracy: 0\n",
            "64\n",
            "Epoch: 64  Cost: -1.0  Accuracy: 0\n",
            "65\n",
            "Epoch: 65  Cost: -1.0  Accuracy: 0\n",
            "66\n",
            "Epoch: 66  Cost: -1.0  Accuracy: 0\n",
            "67\n",
            "Epoch: 67  Cost: -1.0  Accuracy: 0\n",
            "68\n",
            "Epoch: 68  Cost: -1.0  Accuracy: 0\n",
            "69\n",
            "Epoch: 69  Cost: -1.0  Accuracy: 0\n",
            "70\n",
            "Epoch: 70  Cost: -1.0  Accuracy: 0\n",
            "71\n",
            "Epoch: 71  Cost: -1.0  Accuracy: 0\n",
            "72\n",
            "Epoch: 72  Cost: -1.0  Accuracy: 0\n",
            "73\n",
            "Epoch: 73  Cost: -1.0  Accuracy: 0\n",
            "74\n",
            "Epoch: 74  Cost: -1.0  Accuracy: 0\n",
            "75\n",
            "Epoch: 75  Cost: -1.0  Accuracy: 0\n",
            "76\n",
            "Epoch: 76  Cost: -1.0  Accuracy: 0\n",
            "77\n",
            "Epoch: 77  Cost: -1.0  Accuracy: 0\n",
            "78\n",
            "Epoch: 78  Cost: -1.0  Accuracy: 0\n",
            "79\n",
            "Epoch: 79  Cost: -1.0  Accuracy: 0\n",
            "80\n",
            "Epoch: 80  Cost: -1.0  Accuracy: 0\n",
            "81\n",
            "Epoch: 81  Cost: -1.0  Accuracy: 0\n",
            "82\n",
            "Epoch: 82  Cost: -1.0  Accuracy: 0\n",
            "83\n",
            "Epoch: 83  Cost: -1.0  Accuracy: 0\n",
            "84\n",
            "Epoch: 84  Cost: -1.0  Accuracy: 0\n",
            "85\n",
            "Epoch: 85  Cost: -1.0  Accuracy: 0\n",
            "86\n",
            "Epoch: 86  Cost: -1.0  Accuracy: 0\n",
            "87\n",
            "Epoch: 87  Cost: -1.0  Accuracy: 0\n",
            "88\n",
            "Epoch: 88  Cost: -1.0  Accuracy: 0\n",
            "89\n",
            "Epoch: 89  Cost: -1.0  Accuracy: 0\n",
            "90\n",
            "Epoch: 90  Cost: -1.0  Accuracy: 0\n",
            "91\n",
            "Epoch: 91  Cost: -1.0  Accuracy: 0\n",
            "92\n",
            "Epoch: 92  Cost: -1.0  Accuracy: 0\n",
            "93\n",
            "Epoch: 93  Cost: -1.0  Accuracy: 0\n",
            "94\n",
            "Epoch: 94  Cost: -1.0  Accuracy: 0\n",
            "95\n",
            "Epoch: 95  Cost: -1.0  Accuracy: 0\n",
            "96\n",
            "Epoch: 96  Cost: -1.0  Accuracy: 0\n",
            "97\n",
            "Epoch: 97  Cost: -1.0  Accuracy: 0\n",
            "98\n",
            "Epoch: 98  Cost: -1.0  Accuracy: 0\n",
            "99\n",
            "Epoch: 99  Cost: -1.0  Accuracy: 0\n",
            "100\n",
            "Epoch: 100  Cost: -1.0  Accuracy: 0\n",
            "101\n",
            "Epoch: 101  Cost: -1.0  Accuracy: 0\n",
            "102\n",
            "Epoch: 102  Cost: -1.0  Accuracy: 0\n",
            "103\n",
            "Epoch: 103  Cost: -1.0  Accuracy: 0\n",
            "104\n",
            "Epoch: 104  Cost: -1.0  Accuracy: 0\n",
            "105\n",
            "Epoch: 105  Cost: -1.0  Accuracy: 0\n",
            "106\n",
            "Epoch: 106  Cost: -1.0  Accuracy: 0\n",
            "107\n",
            "Epoch: 107  Cost: -1.0  Accuracy: 0\n",
            "108\n",
            "Epoch: 108  Cost: -1.0  Accuracy: 0\n",
            "109\n",
            "Epoch: 109  Cost: -1.0  Accuracy: 0\n",
            "110\n",
            "Epoch: 110  Cost: -1.0  Accuracy: 0\n",
            "111\n",
            "Epoch: 111  Cost: -1.0  Accuracy: 0\n",
            "112\n",
            "Epoch: 112  Cost: -1.0  Accuracy: 0\n",
            "113\n",
            "Epoch: 113  Cost: -1.0  Accuracy: 0\n",
            "114\n",
            "Epoch: 114  Cost: -1.0  Accuracy: 0\n",
            "115\n",
            "Epoch: 115  Cost: -1.0  Accuracy: 0\n",
            "116\n",
            "Epoch: 116  Cost: -1.0  Accuracy: 0\n",
            "117\n",
            "Epoch: 117  Cost: -1.0  Accuracy: 0\n",
            "118\n",
            "Epoch: 118  Cost: -1.0  Accuracy: 0\n",
            "119\n",
            "Epoch: 119  Cost: -1.0  Accuracy: 0\n",
            "120\n",
            "Epoch: 120  Cost: -1.0  Accuracy: 0\n",
            "121\n",
            "Epoch: 121  Cost: -1.0  Accuracy: 0\n",
            "122\n",
            "Epoch: 122  Cost: -1.0  Accuracy: 0\n",
            "123\n",
            "Epoch: 123  Cost: -1.0  Accuracy: 0\n",
            "124\n",
            "Epoch: 124  Cost: -1.0  Accuracy: 0\n",
            "125\n",
            "Epoch: 125  Cost: -1.0  Accuracy: 0\n",
            "126\n",
            "Epoch: 126  Cost: -1.0  Accuracy: 0\n",
            "127\n",
            "Epoch: 127  Cost: -1.0  Accuracy: 0\n",
            "128\n",
            "Epoch: 128  Cost: -1.0  Accuracy: 0\n",
            "129\n",
            "Epoch: 129  Cost: -1.0  Accuracy: 0\n",
            "130\n",
            "Epoch: 130  Cost: -1.0  Accuracy: 0\n",
            "131\n",
            "Epoch: 131  Cost: -1.0  Accuracy: 0\n",
            "132\n",
            "Epoch: 132  Cost: -1.0  Accuracy: 0\n",
            "133\n",
            "Epoch: 133  Cost: -1.0  Accuracy: 0\n",
            "134\n",
            "Epoch: 134  Cost: -1.0  Accuracy: 0\n",
            "135\n",
            "Epoch: 135  Cost: -1.0  Accuracy: 0\n",
            "136\n",
            "Epoch: 136  Cost: -1.0  Accuracy: 0\n",
            "137\n",
            "Epoch: 137  Cost: -1.0  Accuracy: 0\n",
            "138\n",
            "Epoch: 138  Cost: -1.0  Accuracy: 0\n",
            "139\n",
            "Epoch: 139  Cost: -1.0  Accuracy: 0\n",
            "140\n",
            "Epoch: 140  Cost: -1.0  Accuracy: 0\n",
            "141\n",
            "Epoch: 141  Cost: -1.0  Accuracy: 0\n",
            "142\n",
            "Epoch: 142  Cost: -1.0  Accuracy: 0\n",
            "143\n",
            "Epoch: 143  Cost: -1.0  Accuracy: 0\n",
            "144\n",
            "Epoch: 144  Cost: -1.0  Accuracy: 0\n",
            "145\n",
            "Epoch: 145  Cost: -1.0  Accuracy: 0\n",
            "146\n",
            "Epoch: 146  Cost: -1.0  Accuracy: 0\n",
            "147\n",
            "Epoch: 147  Cost: -1.0  Accuracy: 0\n",
            "148\n",
            "Epoch: 148  Cost: -1.0  Accuracy: 0\n",
            "149\n",
            "Epoch: 149  Cost: -1.0  Accuracy: 0\n",
            "150\n",
            "Epoch: 150  Cost: -1.0  Accuracy: 0\n",
            "151\n",
            "Epoch: 151  Cost: -1.0  Accuracy: 0\n",
            "152\n",
            "Epoch: 152  Cost: -1.0  Accuracy: 0\n",
            "153\n",
            "Epoch: 153  Cost: -1.0  Accuracy: 0\n",
            "154\n",
            "Epoch: 154  Cost: -1.0  Accuracy: 0\n",
            "155\n",
            "Epoch: 155  Cost: -1.0  Accuracy: 0\n",
            "156\n",
            "Epoch: 156  Cost: -1.0  Accuracy: 0\n",
            "157\n",
            "Epoch: 157  Cost: -1.0  Accuracy: 0\n",
            "158\n",
            "Epoch: 158  Cost: -1.0  Accuracy: 0\n",
            "159\n",
            "Epoch: 159  Cost: -1.0  Accuracy: 0\n",
            "160\n",
            "Epoch: 160  Cost: -1.0  Accuracy: 0\n",
            "161\n",
            "Epoch: 161  Cost: -1.0  Accuracy: 0\n",
            "162\n",
            "Epoch: 162  Cost: -1.0  Accuracy: 0\n",
            "163\n",
            "Epoch: 163  Cost: -1.0  Accuracy: 0\n",
            "164\n",
            "Epoch: 164  Cost: -1.0  Accuracy: 0\n",
            "165\n",
            "Epoch: 165  Cost: -1.0  Accuracy: 0\n",
            "166\n",
            "Epoch: 166  Cost: -1.0  Accuracy: 0\n",
            "167\n",
            "Epoch: 167  Cost: -1.0  Accuracy: 0\n",
            "168\n",
            "Epoch: 168  Cost: -1.0  Accuracy: 0\n",
            "169\n",
            "Epoch: 169  Cost: -1.0  Accuracy: 0\n",
            "170\n",
            "Epoch: 170  Cost: -1.0  Accuracy: 0\n",
            "171\n",
            "Epoch: 171  Cost: -1.0  Accuracy: 0\n",
            "172\n",
            "Epoch: 172  Cost: -1.0  Accuracy: 0\n",
            "173\n",
            "Epoch: 173  Cost: -1.0  Accuracy: 0\n",
            "174\n",
            "Epoch: 174  Cost: -1.0  Accuracy: 0\n",
            "175\n"
          ],
          "name": "stdout"
        },
        {
          "output_type": "error",
          "ename": "KeyboardInterrupt",
          "evalue": "ignored",
          "traceback": [
            "\u001b[0;31m---------------------------------------------------------------------------\u001b[0m",
            "\u001b[0;31mKeyboardInterrupt\u001b[0m                         Traceback (most recent call last)",
            "\u001b[0;32m<ipython-input-73-9e438edde2c9>\u001b[0m in \u001b[0;36m<module>\u001b[0;34m()\u001b[0m\n\u001b[0;32m----> 1\u001b[0;31m \u001b[0mW\u001b[0m\u001b[0;34m,\u001b[0m \u001b[0mb\u001b[0m\u001b[0;34m,\u001b[0m \u001b[0mavg_cost\u001b[0m\u001b[0;34m,\u001b[0m \u001b[0maccuracy\u001b[0m \u001b[0;34m=\u001b[0m \u001b[0mlogistic_regression\u001b[0m\u001b[0;34m(\u001b[0m\u001b[0mx_train\u001b[0m\u001b[0;34m,\u001b[0m \u001b[0my_train\u001b[0m\u001b[0;34m)\u001b[0m\u001b[0;34m\u001b[0m\u001b[0;34m\u001b[0m\u001b[0m\n\u001b[0m",
            "\u001b[0;32m<ipython-input-69-396fd377d5dc>\u001b[0m in \u001b[0;36mlogistic_regression\u001b[0;34m(x_train, y_train, train_class, epoch, learning_rate)\u001b[0m\n\u001b[1;32m     14\u001b[0m \u001b[0;34m\u001b[0m\u001b[0m\n\u001b[1;32m     15\u001b[0m             \u001b[0;31m# Making prediction\u001b[0m\u001b[0;34m\u001b[0m\u001b[0;34m\u001b[0m\u001b[0;34m\u001b[0m\u001b[0m\n\u001b[0;32m---> 16\u001b[0;31m             \u001b[0my_pred\u001b[0m \u001b[0;34m=\u001b[0m \u001b[0msigmoid\u001b[0m\u001b[0;34m(\u001b[0m\u001b[0mW\u001b[0m\u001b[0;34m@\u001b[0m\u001b[0mx\u001b[0m \u001b[0;34m+\u001b[0m \u001b[0mb\u001b[0m\u001b[0;34m)\u001b[0m\u001b[0;34m\u001b[0m\u001b[0;34m\u001b[0m\u001b[0m\n\u001b[0m\u001b[1;32m     17\u001b[0m             \u001b[0;31m#print(\"Pred, actua \", y_pred, y)\u001b[0m\u001b[0;34m\u001b[0m\u001b[0;34m\u001b[0m\u001b[0;34m\u001b[0m\u001b[0m\n\u001b[1;32m     18\u001b[0m \u001b[0;34m\u001b[0m\u001b[0m\n",
            "\u001b[0;32m<ipython-input-71-7aec30908418>\u001b[0m in \u001b[0;36msigmoid\u001b[0;34m(x)\u001b[0m\n\u001b[0;32m----> 1\u001b[0;31m \u001b[0;32mdef\u001b[0m \u001b[0msigmoid\u001b[0m\u001b[0;34m(\u001b[0m\u001b[0mx\u001b[0m\u001b[0;34m)\u001b[0m\u001b[0;34m:\u001b[0m\u001b[0;34m\u001b[0m\u001b[0;34m\u001b[0m\u001b[0m\n\u001b[0m\u001b[1;32m      2\u001b[0m     \u001b[0;32mreturn\u001b[0m \u001b[0;36m1\u001b[0m\u001b[0;34m/\u001b[0m\u001b[0;34m(\u001b[0m\u001b[0;36m1\u001b[0m\u001b[0;34m+\u001b[0m\u001b[0mmath\u001b[0m\u001b[0;34m.\u001b[0m\u001b[0me\u001b[0m\u001b[0;34m**\u001b[0m\u001b[0;34m(\u001b[0m\u001b[0;34m-\u001b[0m\u001b[0mx\u001b[0m\u001b[0;34m)\u001b[0m\u001b[0;34m)\u001b[0m\u001b[0;34m\u001b[0m\u001b[0;34m\u001b[0m\u001b[0m\n\u001b[1;32m      3\u001b[0m \u001b[0;34m\u001b[0m\u001b[0m\n\u001b[1;32m      4\u001b[0m \u001b[0;31m# Random Initilisation of Weights and Bias\u001b[0m\u001b[0;34m\u001b[0m\u001b[0;34m\u001b[0m\u001b[0;34m\u001b[0m\u001b[0m\n\u001b[1;32m      5\u001b[0m \u001b[0;32mdef\u001b[0m \u001b[0minitialise\u001b[0m\u001b[0;34m(\u001b[0m\u001b[0mlen_w\u001b[0m\u001b[0;34m)\u001b[0m\u001b[0;34m:\u001b[0m\u001b[0;34m\u001b[0m\u001b[0;34m\u001b[0m\u001b[0m\n",
            "\u001b[0;31mKeyboardInterrupt\u001b[0m: "
          ]
        }
      ]
    },
    {
      "cell_type": "code",
      "metadata": {
        "id": "G4pJnV3ogl5j",
        "colab_type": "code",
        "colab": {}
      },
      "source": [
        ""
      ],
      "execution_count": 0,
      "outputs": []
    },
    {
      "cell_type": "markdown",
      "metadata": {
        "id": "P7O7kyH8VgeH",
        "colab_type": "text"
      },
      "source": [
        "## Nearest Neighbours (KNN) Algorithm\n",
        "\n",
        "The KNN algorithm assumes that similar things exist in close proximity. In other words, similar things are near to each other.\n",
        "\n",
        "References: https://towardsdatascience.com/machine-learning-basics-with-the-k-nearest-neighbors-algorithm-6a6e71d01761\n",
        "\n",
        "Sample Code: https://github.com/shubham99bisht/Machine_Learning_Tutorials/blob/master/Iris_Flower_Classification.ipynb"
      ]
    },
    {
      "cell_type": "code",
      "metadata": {
        "id": "8_hw36c-Vm3I",
        "colab_type": "code",
        "outputId": "c7391e7d-c05f-4a96-c90c-aafff47ab08d",
        "colab": {
          "base_uri": "https://localhost:8080/",
          "height": 34
        }
      },
      "source": [
        "# Euclidean Distance Function\n",
        "\n",
        "# Distance between (x1, y1) and (x2, y2)\n",
        "# dist = sqrt( (x2-x1)**2 + (y2-y1)**2 )\n",
        "\n",
        "def distance(data_point1, data_point2):\n",
        "    assert data_point1.shape == data_point2.shape, \"Data points not of same dimension\"\n",
        "    \n",
        "    number_of_features = len(data_point1)\n",
        "    dist = 0\n",
        "    for i in range(number_of_features):\n",
        "        dist += (data_point1[i] - data_point2[i])**2\n",
        "    return dist**0.5\n",
        "\n",
        "print(\"Distance between [0,0], [3,4]: \",distance(np.array([0,0]), np.array([3,4])))"
      ],
      "execution_count": 0,
      "outputs": [
        {
          "output_type": "stream",
          "text": [
            "Distance between [0,0], [3,4]:  5.0\n"
          ],
          "name": "stdout"
        }
      ]
    },
    {
      "cell_type": "code",
      "metadata": {
        "id": "z3fH3X2uXAQ0",
        "colab_type": "code",
        "colab": {}
      },
      "source": [
        "# KNN doesn't require training :p\n",
        "\n",
        "def KNN_algorithm(X_train, y_train, x_test):\n",
        "    y_pred = []\n",
        "    for test_data_point in x_test:\n",
        "        label, max_dist = None, 10**6\n",
        "        for pt in range(len(X_train)):\n",
        "            dist = distance(test_data_point, X_train[pt])\n",
        "            if dist < max_dist:\n",
        "                max_dist = dist\n",
        "                label = y_train[pt]\n",
        "        y_pred.append(label)\n",
        "    return np.array(y_pred)\n",
        "    "
      ],
      "execution_count": 0,
      "outputs": []
    },
    {
      "cell_type": "code",
      "metadata": {
        "id": "gX-obqQEXUkW",
        "colab_type": "code",
        "outputId": "2fc11db9-4db2-4ddb-80ac-42621d2a493b",
        "colab": {
          "base_uri": "https://localhost:8080/",
          "height": 68
        }
      },
      "source": [
        "# Getting Data\n",
        "x_train, y_train, x_test, y_test = get_data()"
      ],
      "execution_count": 0,
      "outputs": [
        {
          "output_type": "stream",
          "text": [
            "Train Test Split : (3919, 12) (979, 12)\n",
            "Train Data Shape:  (3919, 11) (3919,)\n",
            "Test Data Shape:  (979, 11) (979,)\n"
          ],
          "name": "stdout"
        }
      ]
    },
    {
      "cell_type": "code",
      "metadata": {
        "id": "KtNtnDkV95HR",
        "colab_type": "code",
        "outputId": "53362e73-03e9-418d-ab2f-da12a314177e",
        "colab": {
          "base_uri": "https://localhost:8080/",
          "height": 68
        }
      },
      "source": [
        "# Apply KNN on random test data to match the prediction\n",
        "\n",
        "i = np.random.randint(0,100)\n",
        "\n",
        "print(\"Working on test case: {}\".format(i))\n",
        "\n",
        "y_pred = KNN_algorithm(x_train, y_train, x_test[i].reshape(1, -1))\n",
        "print(\"Prediction: \",y_pred, \"\\nExpected:\", y_test[i])"
      ],
      "execution_count": 0,
      "outputs": [
        {
          "output_type": "stream",
          "text": [
            "Working on test case: 80\n",
            "Prediction:  [1.] \n",
            "Expected: 1.0\n"
          ],
          "name": "stdout"
        }
      ]
    },
    {
      "cell_type": "code",
      "metadata": {
        "id": "lKM-5AUi6YdI",
        "colab_type": "code",
        "colab": {}
      },
      "source": [
        "# Apply KNN on entire test data (takes time to run)\n",
        "\n",
        "predictions = KNN_algorithm(x_train, y_train, x_test[:500,:])"
      ],
      "execution_count": 0,
      "outputs": []
    },
    {
      "cell_type": "code",
      "metadata": {
        "id": "xGX1JOBZ-NWi",
        "colab_type": "code",
        "outputId": "ee810c1f-19f7-4281-bb6c-0bb2139f219a",
        "colab": {
          "base_uri": "https://localhost:8080/",
          "height": 34
        }
      },
      "source": [
        "# Calculating Accuracy (Function defined in Utils section above)\n",
        "\n",
        "accuracy = get_accuracy(predictions, y_test[:500])\n",
        "print(accuracy)"
      ],
      "execution_count": 0,
      "outputs": [
        {
          "output_type": "stream",
          "text": [
            "0.716\n"
          ],
          "name": "stdout"
        }
      ]
    },
    {
      "cell_type": "code",
      "metadata": {
        "id": "vhWoA--HBEoF",
        "colab_type": "code",
        "outputId": "1c4d81b3-6e30-459b-9933-47e89c76ff7c",
        "colab": {
          "base_uri": "https://localhost:8080/",
          "height": 333
        }
      },
      "source": [
        "# Plotting Confusion Matrix (Function defined in Utils section above)\n",
        "\n",
        "cm = confusion_matrix(predictions, y_test[:500])\n",
        "sns.heatmap(cm)"
      ],
      "execution_count": 0,
      "outputs": [
        {
          "output_type": "stream",
          "text": [
            "[122, 32, 4]\n",
            "[43, 156, 25]\n",
            "[2, 36, 80]\n"
          ],
          "name": "stdout"
        },
        {
          "output_type": "execute_result",
          "data": {
            "text/plain": [
              "<matplotlib.axes._subplots.AxesSubplot at 0x7fa93cbeea90>"
            ]
          },
          "metadata": {
            "tags": []
          },
          "execution_count": 133
        },
        {
          "output_type": "display_data",
          "data": {
            "image/png": "[encoded data removed]",
            "text/plain": [
              "<Figure size 432x288 with 2 Axes>"
            ]
          },
          "metadata": {
            "tags": [],
            "needs_background": "light"
          }
        }
      ]
    },
    {
      "cell_type": "markdown",
      "metadata": {
        "id": "l98Nm4_vgmk2",
        "colab_type": "text"
      },
      "source": [
        "## Support Vector Machine (SVM)\n",
        "\n",
        "The objective of the support vector machine algorithm is to find a hyperplane in an N-dimensional space(N — the number of features) that distinctly classifies the data points.\n",
        "\n",
        "\n",
        "Reference Link: https://towardsdatascience.com/support-vector-machine-introduction-to-machine-learning-algorithms-934a444fca47\n"
      ]
    },
    {
      "cell_type": "code",
      "metadata": {
        "id": "mxxMUO1RgsGe",
        "colab_type": "code",
        "colab": {}
      },
      "source": [
        ""
      ],
      "execution_count": 0,
      "outputs": []
    },
    {
      "cell_type": "code",
      "metadata": {
        "id": "U8Syh_i9gsFe",
        "colab_type": "code",
        "colab": {}
      },
      "source": [
        ""
      ],
      "execution_count": 0,
      "outputs": []
    },
    {
      "cell_type": "code",
      "metadata": {
        "id": "s22PPwVmgsC2",
        "colab_type": "code",
        "colab": {}
      },
      "source": [
        ""
      ],
      "execution_count": 0,
      "outputs": []
    }
  ]
}